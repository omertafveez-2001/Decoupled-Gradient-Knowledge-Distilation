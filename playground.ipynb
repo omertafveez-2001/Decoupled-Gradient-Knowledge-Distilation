{
 "cells": [
  {
   "cell_type": "code",
   "execution_count": 28,
   "metadata": {},
   "outputs": [
    {
     "name": "stdout",
     "output_type": "stream",
     "text": [
      "tensor([0.2000, 0.0000, 0.3000])\n",
      "tensor([0.0000, 0.1000, 0.0000])\n",
      "tensor(0.0467)\n",
      "tensor(0.0433)\n",
      "tensor(0.0033)\n"
     ]
    }
   ],
   "source": [
    "import torch \n",
    "import torch.nn.functional as F\n",
    "import numpy as np\n",
    "\n",
    "torch.manual_seed(42)\n",
    "\n",
    "vec1 = [0.2, 0, 0.3]\n",
    "vec2 = [0, 0.1, 0]\n",
    "\n",
    "# convert to tensor \n",
    "vec1 = torch.tensor(vec1)\n",
    "vec2 = torch.tensor(vec2)\n",
    "\n",
    "print(vec1)\n",
    "print(vec2)\n",
    "\n",
    "meansq = F.mse_loss(vec1, vec2)\n",
    "print(meansq)\n",
    "\n",
    "vec1_ = torch.sum(vec1**2) / 3\n",
    "vec2_ = torch.sum(vec2**2) / 3\n",
    "\n",
    "print(vec1_)\n",
    "print(vec2_)"
   ]
  },
  {
   "cell_type": "code",
   "execution_count": null,
   "metadata": {},
   "outputs": [],
   "source": []
  }
 ],
 "metadata": {
  "kernelspec": {
   "display_name": "base",
   "language": "python",
   "name": "python3"
  },
  "language_info": {
   "codemirror_mode": {
    "name": "ipython",
    "version": 3
   },
   "file_extension": ".py",
   "mimetype": "text/x-python",
   "name": "python",
   "nbconvert_exporter": "python",
   "pygments_lexer": "ipython3",
   "version": "3.12.3"
  }
 },
 "nbformat": 4,
 "nbformat_minor": 2
}
